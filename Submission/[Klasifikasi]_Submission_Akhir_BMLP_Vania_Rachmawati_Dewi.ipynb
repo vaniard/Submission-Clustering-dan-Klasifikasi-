{
  "nbformat": 4,
  "nbformat_minor": 0,
  "metadata": {
    "colab": {
      "provenance": []
    },
    "kernelspec": {
      "name": "python3",
      "display_name": "Python 3"
    },
    "language_info": {
      "name": "python"
    }
  },
  "cells": [
    {
      "cell_type": "markdown",
      "source": [
        "# **1. Import Library**"
      ],
      "metadata": {
        "id": "fKADPWcFKlj3"
      }
    },
    {
      "cell_type": "markdown",
      "source": [
        "Pada tahap ini, Anda perlu mengimpor beberapa pustaka (library) Python yang dibutuhkan untuk analisis data dan pembangunan model machine learning."
      ],
      "metadata": {
        "id": "LgA3ERnVn84N"
      }
    },
    {
      "cell_type": "code",
      "source": [
        "import pandas as pd\n",
        "import numpy as np\n",
        "from sklearn.model_selection import train_test_split\n",
        "from sklearn.linear_model import LogisticRegression\n",
        "from sklearn.ensemble import RandomForestClassifier\n",
        "from sklearn.metrics import accuracy_score, classification_report, confusion_matrix\n",
        "from sklearn.model_selection import GridSearchCV"
      ],
      "metadata": {
        "id": "BlmvjLY9M4Yj"
      },
      "execution_count": 26,
      "outputs": []
    },
    {
      "cell_type": "markdown",
      "source": [
        "# **2. Memuat Dataset dari Hasil Clustering**"
      ],
      "metadata": {
        "id": "f3YIEnAFKrKL"
      }
    },
    {
      "cell_type": "markdown",
      "source": [
        "Memuat dataset hasil clustering dari file CSV ke dalam variabel DataFrame."
      ],
      "metadata": {
        "id": "Ey3ItwTen_7E"
      }
    },
    {
      "cell_type": "code",
      "source": [
        "df = pd.read_csv('/content/drive/MyDrive/Dataset/clustering_bank_transaction.csv')"
      ],
      "metadata": {
        "id": "GHCGNTyrM5fS"
      },
      "execution_count": 3,
      "outputs": []
    },
    {
      "cell_type": "code",
      "source": [
        "print(df.columns)"
      ],
      "metadata": {
        "colab": {
          "base_uri": "https://localhost:8080/"
        },
        "id": "paV_yCq3MTau",
        "outputId": "d189682b-2a4e-4abb-bb41-d631d6b8db6a"
      },
      "execution_count": 5,
      "outputs": [
        {
          "output_type": "stream",
          "name": "stdout",
          "text": [
            "Index(['TransactionAmount', 'TransactionDate', 'TransactionType', 'Location',\n",
            "       'Channel', 'CustomerAge', 'CustomerOccupation', 'TransactionDuration',\n",
            "       'LoginAttempts', 'AccountBalance', 'TransactionType_encoded',\n",
            "       'Location_encoded', 'Channel_encoded', 'CustomerOccupation_encoded',\n",
            "       'cluster_kmeans', 'cluster_kmeans_pca', 'cluster_kmeans_optimal',\n",
            "       'TransactionType_Encoded', 'Location_Encoded', 'Channel_Encoded',\n",
            "       'CustomerOccupation_Encoded', 'TransactionType_Inverse',\n",
            "       'Location_Inverse', 'Channel_Inverse', 'CustomerOccupation_Inverse',\n",
            "       'Cluster'],\n",
            "      dtype='object')\n"
          ]
        }
      ]
    },
    {
      "cell_type": "code",
      "source": [
        "from google.colab import drive\n",
        "drive.mount('/content/drive')"
      ],
      "metadata": {
        "colab": {
          "base_uri": "https://localhost:8080/"
        },
        "id": "w1ThpKcKL1Cy",
        "outputId": "24ea69f1-e041-4950-eb43-81863b49ddde"
      },
      "execution_count": 2,
      "outputs": [
        {
          "output_type": "stream",
          "name": "stdout",
          "text": [
            "Mounted at /content/drive\n"
          ]
        }
      ]
    },
    {
      "cell_type": "code",
      "source": [
        "features = ['TransactionAmount', 'CustomerAge', 'TransactionDuration',\n",
        "            'LoginAttempts', 'AccountBalance', 'TransactionType_encoded',\n",
        "            'Location_encoded', 'Channel_encoded', 'CustomerOccupation_encoded']\n",
        "\n",
        "X = df[features]\n",
        "y = df['Cluster']\n",
        "\n",
        "print(y.value_counts())"
      ],
      "metadata": {
        "colab": {
          "base_uri": "https://localhost:8080/"
        },
        "id": "CqfZD1PkMcBt",
        "outputId": "50bef786-834b-4da1-9358-8dfd374aa340"
      },
      "execution_count": 6,
      "outputs": [
        {
          "output_type": "stream",
          "name": "stdout",
          "text": [
            "Cluster\n",
            "1    1041\n",
            "0     875\n",
            "2     366\n",
            "Name: count, dtype: int64\n"
          ]
        }
      ]
    },
    {
      "cell_type": "markdown",
      "source": [
        "# **3. Data Splitting**"
      ],
      "metadata": {
        "id": "KkPem5eWL2UP"
      }
    },
    {
      "cell_type": "markdown",
      "source": [
        "Tahap Data Splitting bertujuan untuk memisahkan dataset menjadi dua bagian: data latih (training set) dan data uji (test set)."
      ],
      "metadata": {
        "id": "YYj1rl_JNI9Y"
      }
    },
    {
      "cell_type": "code",
      "source": [
        "from sklearn.model_selection import train_test_split\n",
        "from sklearn.preprocessing import StandardScaler\n",
        "\n",
        "X_train, X_test, y_train, y_test = train_test_split(X, y, test_size=0.2, random_state=42, stratify=y)\n",
        "\n",
        "scaler = StandardScaler()\n",
        "X_train_scaled = scaler.fit_transform(X_train)\n",
        "X_test_scaled = scaler.transform(X_test)\n",
        "\n",
        "print(f'Jumlah baris data training: {X_train.shape[0]}')\n",
        "print(f'Jumlah baris data testing: {X_test.shape[0]}')"
      ],
      "metadata": {
        "id": "OubAW-7ONKVj",
        "colab": {
          "base_uri": "https://localhost:8080/"
        },
        "outputId": "12bc5fd7-06c1-4f24-ba64-d08feb413998"
      },
      "execution_count": 13,
      "outputs": [
        {
          "output_type": "stream",
          "name": "stdout",
          "text": [
            "Jumlah baris data training: 1825\n",
            "Jumlah baris data testing: 457\n"
          ]
        }
      ]
    },
    {
      "cell_type": "markdown",
      "source": [
        "# **4. Membangun Model Klasifikasi**\n"
      ],
      "metadata": {
        "id": "IVPbB03CMhTT"
      }
    },
    {
      "cell_type": "markdown",
      "source": [
        "## **a. Membangun Model Klasifikasi**"
      ],
      "metadata": {
        "id": "Ned1pL9zMmBK"
      }
    },
    {
      "cell_type": "markdown",
      "source": [
        "Setelah memilih algoritma klasifikasi yang sesuai, langkah selanjutnya adalah melatih model menggunakan data latih.\n",
        "\n",
        "Berikut adalah rekomendasi tahapannya.\n",
        "1. Pilih algoritma klasifikasi yang sesuai, seperti Logistic Regression, Decision Tree, Random Forest, atau K-Nearest Neighbors (KNN).\n",
        "2. Latih model menggunakan data latih."
      ],
      "metadata": {
        "id": "WAWzPOE4Nkti"
      }
    },
    {
      "cell_type": "markdown",
      "source": [
        "**Logistic Regression**"
      ],
      "metadata": {
        "id": "jbhvuodfNjbP"
      }
    },
    {
      "cell_type": "code",
      "source": [
        "from sklearn.metrics import accuracy_score, classification_report, confusion_matrix, f1_score\n",
        "\n",
        "lr = LogisticRegression(multi_class='multinomial', solver='lbfgs', max_iter=1000, random_state=42)\n",
        "lr.fit(X_train_scaled, y_train)\n",
        "\n",
        "y_predict_lr = lr.predict(X_test_scaled)\n",
        "\n",
        "accuracy_lr = accuracy_score(y_test, y_predict_lr)\n",
        "f1_lr = f1_score(y_test, y_predict_lr, average='weighted')\n",
        "\n",
        "print(\"Logistic Regression Performance:\")\n",
        "print(f'Accuracy: {accuracy_lr:.4f}')\n",
        "print(f'F1 Score: {f1_lr:.4f}')\n",
        "print(\"\\nReport Klasifikasi\")\n",
        "print(classification_report(y_test, y_predict_lr))\n",
        "print(\"\\nConfusion Matrix:\")\n",
        "print(confusion_matrix(y_test, y_predict_lr))"
      ],
      "metadata": {
        "id": "4JYxBe87NLDk",
        "colab": {
          "base_uri": "https://localhost:8080/"
        },
        "outputId": "d8e774d7-bf4a-4a3a-ef4a-77661c8d720d"
      },
      "execution_count": 12,
      "outputs": [
        {
          "output_type": "stream",
          "name": "stderr",
          "text": [
            "/usr/local/lib/python3.11/dist-packages/sklearn/linear_model/_logistic.py:1247: FutureWarning: 'multi_class' was deprecated in version 1.5 and will be removed in 1.7. From then on, it will always use 'multinomial'. Leave it to its default value to avoid this warning.\n",
            "  warnings.warn(\n"
          ]
        },
        {
          "output_type": "stream",
          "name": "stdout",
          "text": [
            "Logistic Regression Performance:\n",
            "Accuracy: 0.9912\n",
            "F1 Score: 0.9912\n",
            "\n",
            "Report Klasifikasi\n",
            "              precision    recall  f1-score   support\n",
            "\n",
            "           0       0.99      0.99      0.99       175\n",
            "           1       0.99      1.00      0.99       209\n",
            "           2       1.00      0.99      0.99        73\n",
            "\n",
            "    accuracy                           0.99       457\n",
            "   macro avg       0.99      0.99      0.99       457\n",
            "weighted avg       0.99      0.99      0.99       457\n",
            "\n",
            "\n",
            "Confusion Matrix:\n",
            "[[173   2   0]\n",
            " [  1 208   0]\n",
            " [  1   0  72]]\n"
          ]
        }
      ]
    },
    {
      "cell_type": "markdown",
      "source": [
        "Logistic Regression ini digunakan untuk menyelesaikan masalah klasifikasi multikelas. Logistic Regression merupakan algoritma supervised learning yang digunakan untuk memprediksi probabilitas dari berbagai kelas target. Pada algoritma tersebut diatur parameter `multi_class='multinomial' `yang berarti model menggunakan pendekatan multinomial logistic regression yang cocok untuk klasifikasi dengan lebih dari dua kelas.\n",
        "\n",
        "\n",
        "\n"
      ],
      "metadata": {
        "id": "seYoHNY3XU1y"
      }
    },
    {
      "cell_type": "markdown",
      "source": [
        "## **b. Evaluasi Model Klasifikasi**"
      ],
      "metadata": {
        "id": "ergzChZFEL-O"
      }
    },
    {
      "cell_type": "markdown",
      "source": [
        "Berikut adalah **rekomendasi** tahapannya.\n",
        "1. Lakukan prediksi menggunakan data uji.\n",
        "2. Hitung metrik evaluasi seperti Accuracy dan F1-Score (Opsional: Precision dan Recall).\n",
        "3. Buat confusion matrix untuk melihat detail prediksi benar dan salah."
      ],
      "metadata": {
        "id": "zOm68u-7NpLT"
      }
    },
    {
      "cell_type": "markdown",
      "source": [
        "**Random Forest**"
      ],
      "metadata": {
        "id": "qu8rCjjtvGZC"
      }
    },
    {
      "cell_type": "code",
      "source": [
        "rf = RandomForestClassifier(n_estimators=100, random_state=42)\n",
        "rf.fit(X_train, y_train)\n",
        "\n",
        "y_predict_rf = rf.predict(X_test)\n",
        "\n",
        "accuracy_rf = accuracy_score(y_test, y_predict_rf)\n",
        "f1_rf = f1_score(y_test, y_predict_rf, average='weighted')\n",
        "\n",
        "print(\"Random Forest Performance:\")\n",
        "print(f'Accuracy: {accuracy_rf:.4f}')\n",
        "print(f'F1 Score: {f1_rf:.4f}')\n",
        "print(\"\\nReport Klasifikasi\")\n",
        "print(classification_report(y_test, y_predict_rf))\n",
        "print(\"\\nConfusion Matrix:\")\n",
        "print(confusion_matrix(y_test, y_predict_rf))"
      ],
      "metadata": {
        "id": "tMq4QAssNLip",
        "colab": {
          "base_uri": "https://localhost:8080/"
        },
        "outputId": "06587c63-39d8-4e22-a125-0cd4a4bafd67"
      },
      "execution_count": 14,
      "outputs": [
        {
          "output_type": "stream",
          "name": "stdout",
          "text": [
            "Random Forest Performance:\n",
            "Accuracy: 1.0000\n",
            "F1 Score: 1.0000\n",
            "\n",
            "Report Klasifikasi\n",
            "              precision    recall  f1-score   support\n",
            "\n",
            "           0       1.00      1.00      1.00       175\n",
            "           1       1.00      1.00      1.00       209\n",
            "           2       1.00      1.00      1.00        73\n",
            "\n",
            "    accuracy                           1.00       457\n",
            "   macro avg       1.00      1.00      1.00       457\n",
            "weighted avg       1.00      1.00      1.00       457\n",
            "\n",
            "\n",
            "Confusion Matrix:\n",
            "[[175   0   0]\n",
            " [  0 209   0]\n",
            " [  0   0  73]]\n"
          ]
        }
      ]
    },
    {
      "cell_type": "markdown",
      "source": [
        "Tulis hasil evaluasi algoritma yang digunakan, jika Anda menggunakan 2 algoritma, maka bandingkan hasilnya."
      ],
      "metadata": {
        "id": "H4_9OwrsXZlz"
      }
    },
    {
      "cell_type": "markdown",
      "source": [
        "**Confusion Matrix (Logistic Regression vs Random Forest)**"
      ],
      "metadata": {
        "id": "3mgyD_myVFYW"
      }
    },
    {
      "cell_type": "code",
      "source": [
        "import matplotlib.pyplot as plt\n",
        "import seaborn as sns\n",
        "from sklearn.metrics import confusion_matrix\n",
        "\n",
        "fig, axes = plt.subplots(1, 2, figsize=(12, 5))\n",
        "sns.heatmap(confusion_matrix(y_test, y_predict_lr), annot=True, fmt='d', cmap='Blues', ax=axes[0])\n",
        "axes[0].set_title('Logistic Regression')\n",
        "axes[0].set_xlabel('Predicted Labels')\n",
        "axes[0].set_ylabel('Actual')\n",
        "\n",
        "sns.heatmap(confusion_matrix(y_test, y_predict_rf), annot=True, fmt='d', cmap='Reds', ax=axes[1])\n",
        "axes[1].set_title('Random Forest')\n",
        "axes[1].set_xlabel('Predicted Labels')\n",
        "axes[1].set_ylabel('Actual')\n",
        "\n",
        "plt.tight_layout()\n",
        "plt.show()"
      ],
      "metadata": {
        "colab": {
          "base_uri": "https://localhost:8080/",
          "height": 507
        },
        "id": "ynEne7aoT3R_",
        "outputId": "9767c774-3574-4d5d-8c80-351bb9605b20"
      },
      "execution_count": 16,
      "outputs": [
        {
          "output_type": "display_data",
          "data": {
            "text/plain": [
              "<Figure size 1200x500 with 4 Axes>"
            ],
            "image/png": "[encoded data removed]"
          },
          "metadata": {}
        }
      ]
    },
    {
      "cell_type": "markdown",
      "source": [
        "**Perbandingan Akurasi dan F1 Score**"
      ],
      "metadata": {
        "id": "CNxBpaOjVOsh"
      }
    },
    {
      "cell_type": "code",
      "source": [
        "import matplotlib.pyplot as plt\n",
        "\n",
        "models = ['Logistic Regression', 'Random Forest']\n",
        "accuracy = [accuracy_lr, accuracy_rf]\n",
        "f1_scores = [f1_lr, f1_rf]\n",
        "\n",
        "x = range(len(models))\n",
        "\n",
        "plt.figure(figsize=(8, 5))\n",
        "plt.bar(x, accuracy, label='Accuracy', width=0.4, align='center')\n",
        "plt.bar([i + 0.4 for i in x], f1_scores, width=0.4, label='F1 Score', align='center')\n",
        "plt.xticks([i + 0.2 for i in x], models)\n",
        "plt.ylabel('Score')\n",
        "plt.ylim(0, 1)\n",
        "plt.title('Perbandingan Performa Model')\n",
        "plt.legend()\n",
        "plt.show()"
      ],
      "metadata": {
        "colab": {
          "base_uri": "https://localhost:8080/",
          "height": 468
        },
        "id": "crTaaAWuVS48",
        "outputId": "8c40ce71-15da-475b-a88d-58502df954da"
      },
      "execution_count": 18,
      "outputs": [
        {
          "output_type": "display_data",
          "data": {
            "text/plain": [
              "<Figure size 800x500 with 1 Axes>"
            ],
            "image/png": "[encoded data removed]"
          },
          "metadata": {}
        }
      ]
    },
    {
      "cell_type": "markdown",
      "source": [
        "## **c. Tuning Model Klasifikasi (Optional)**"
      ],
      "metadata": {
        "id": "ph9yIYDXEPuB"
      }
    },
    {
      "cell_type": "markdown",
      "source": [
        "Gunakan GridSearchCV, RandomizedSearchCV, atau metode lainnya untuk mencari kombinasi hyperparameter terbaik"
      ],
      "metadata": {
        "id": "-Bikx3LINv5e"
      }
    },
    {
      "cell_type": "code",
      "source": [
        "param_grid = {'n_estimators' : [50, 100, 200],\n",
        "              'max_depth' : [None, 10, 20, 30],\n",
        "              'min_samples_split' : [2, 5, 10],\n",
        "              'min_samples_leaf' : [1, 2, 4]}\n",
        "\n",
        "grid_search = GridSearchCV(estimator=RandomForestClassifier(random_state=42),\n",
        "                           param_grid=param_grid,\n",
        "                           cv=5,\n",
        "                           n_jobs=-1,\n",
        "                           scoring='f1_weighted'\n",
        "                          )\n",
        "\n",
        "grid_search.fit(X_train, y_train)\n",
        "\n",
        "best_rf = grid_search.best_estimator_\n",
        "\n",
        "y_predict_best_rf = best_rf.predict(X_test)\n",
        "\n",
        "accuracy_best_rf = accuracy_score(y_test, y_predict_best_rf)\n",
        "f1_best_rf = f1_score(y_test, y_predict_best_rf, average='weighted')\n",
        "\n",
        "print(\"\\nTuned Random Forest Performance:\")\n",
        "print(f\"Best Parameters: {grid_search.best_params_}\")\n",
        "print(f\"Accuracy: {accuracy_best_rf:.4f}\")\n",
        "print(f\"F1-Score: {f1_best_rf:.4f}\")\n",
        "print(\"\\nClassification Report:\")\n",
        "print(classification_report(y_test, y_predict_best_rf))"
      ],
      "metadata": {
        "id": "winbFzb8NL95",
        "colab": {
          "base_uri": "https://localhost:8080/"
        },
        "outputId": "127117b1-db04-431b-87d8-a42f87cb71dd"
      },
      "execution_count": 19,
      "outputs": [
        {
          "output_type": "stream",
          "name": "stdout",
          "text": [
            "\n",
            "Tuned Random Forest Performance:\n",
            "Best Parameters: {'max_depth': None, 'min_samples_leaf': 1, 'min_samples_split': 2, 'n_estimators': 50}\n",
            "Accuracy: 1.0000\n",
            "F1-Score: 1.0000\n",
            "\n",
            "Classification Report:\n",
            "              precision    recall  f1-score   support\n",
            "\n",
            "           0       1.00      1.00      1.00       175\n",
            "           1       1.00      1.00      1.00       209\n",
            "           2       1.00      1.00      1.00        73\n",
            "\n",
            "    accuracy                           1.00       457\n",
            "   macro avg       1.00      1.00      1.00       457\n",
            "weighted avg       1.00      1.00      1.00       457\n",
            "\n"
          ]
        }
      ]
    },
    {
      "cell_type": "markdown",
      "source": [
        "## **d. Evaluasi Model Klasifikasi setelah Tuning (Optional)**"
      ],
      "metadata": {
        "id": "hE7pqlEPEYzI"
      }
    },
    {
      "cell_type": "markdown",
      "source": [
        "Berikut adalah rekomendasi tahapannya.\n",
        "1. Gunakan model dengan hyperparameter terbaik.\n",
        "2. Hitung ulang metrik evaluasi untuk melihat apakah ada peningkatan performa."
      ],
      "metadata": {
        "id": "feaPESoeN0zz"
      }
    },
    {
      "cell_type": "markdown",
      "source": [
        "# 1. Menggunakan Model dengan hyperparameter terbaik"
      ],
      "metadata": {
        "id": "PkXMvt6bcVSw"
      }
    },
    {
      "cell_type": "code",
      "source": [
        "best_rf = grid_search.best_estimator_\n",
        "\n",
        "print(\"Best Parameters Found:\")\n",
        "print(grid_search.best_params_)"
      ],
      "metadata": {
        "id": "HTXZRvEeNMb1",
        "colab": {
          "base_uri": "https://localhost:8080/"
        },
        "outputId": "e5d788e4-16df-4161-f1a9-6d725c9f9c6e"
      },
      "execution_count": 20,
      "outputs": [
        {
          "output_type": "stream",
          "name": "stdout",
          "text": [
            "Best Parameters Found:\n",
            "{'max_depth': None, 'min_samples_leaf': 1, 'min_samples_split': 2, 'n_estimators': 50}\n"
          ]
        }
      ]
    },
    {
      "cell_type": "markdown",
      "source": [
        "# 2. Evaluasi pada Training Set (Untuk memeriksa overfitting)"
      ],
      "metadata": {
        "id": "yjO1ngs3calB"
      }
    },
    {
      "cell_type": "code",
      "source": [
        "y_train_predict = best_rf.predict(X_train)\n",
        "\n",
        "train_accuracy = accuracy_score(y_train, y_train_predict)\n",
        "train_f1 = f1_score(y_train, y_train_predict, average='weighted')\n",
        "\n",
        "print(\"\\nPerformance on Training Set:\")\n",
        "print(f\"Accuracy: {train_accuracy:.4f}\")\n",
        "print(f\"F1-Score: {train_f1:.4f}\")\n",
        "print(\"\\nClassification Report (Training):\")\n",
        "print(classification_report(y_train, y_train_predict))"
      ],
      "metadata": {
        "colab": {
          "base_uri": "https://localhost:8080/"
        },
        "id": "o21WTQnfbr6_",
        "outputId": "80c467d2-6c74-4e35-a6ab-0073c3b3c005"
      },
      "execution_count": 21,
      "outputs": [
        {
          "output_type": "stream",
          "name": "stdout",
          "text": [
            "\n",
            "Performance on Training Set:\n",
            "Accuracy: 1.0000\n",
            "F1-Score: 1.0000\n",
            "\n",
            "Classification Report (Training):\n",
            "              precision    recall  f1-score   support\n",
            "\n",
            "           0       1.00      1.00      1.00       700\n",
            "           1       1.00      1.00      1.00       832\n",
            "           2       1.00      1.00      1.00       293\n",
            "\n",
            "    accuracy                           1.00      1825\n",
            "   macro avg       1.00      1.00      1.00      1825\n",
            "weighted avg       1.00      1.00      1.00      1825\n",
            "\n"
          ]
        }
      ]
    },
    {
      "cell_type": "markdown",
      "source": [
        "## 3. Evaluasi pada testing set"
      ],
      "metadata": {
        "id": "Qewj5Z7qchqR"
      }
    },
    {
      "cell_type": "code",
      "source": [
        "y_test_predict = best_rf.predict(X_test)\n",
        "\n",
        "test_accuracy = accuracy_score(y_test, y_test_predict)\n",
        "test_f1 = f1_score(y_test, y_test_predict, average='weighted')\n",
        "\n",
        "print(\"\\nPerformance on Testing Set:\")\n",
        "print(f\"Accuracy: {test_accuracy:.4f}\")\n",
        "print(f\"F1-Score: {test_f1:.4f}\")\n",
        "print(\"\\nClassification Report (Testing):\")\n",
        "print(classification_report(y_test, y_test_predict))\n",
        "print(\"\\nConfusion Matrix (Testing):\")\n",
        "print(confusion_matrix(y_test, y_test_predict))"
      ],
      "metadata": {
        "colab": {
          "base_uri": "https://localhost:8080/"
        },
        "id": "seixV64wckzN",
        "outputId": "c1536d2e-57ec-4021-d0b7-c168e9ebec12"
      },
      "execution_count": 23,
      "outputs": [
        {
          "output_type": "stream",
          "name": "stdout",
          "text": [
            "\n",
            "Performance on Testing Set:\n",
            "Accuracy: 1.0000\n",
            "F1-Score: 1.0000\n",
            "\n",
            "Classification Report (Testing):\n",
            "              precision    recall  f1-score   support\n",
            "\n",
            "           0       1.00      1.00      1.00       175\n",
            "           1       1.00      1.00      1.00       209\n",
            "           2       1.00      1.00      1.00        73\n",
            "\n",
            "    accuracy                           1.00       457\n",
            "   macro avg       1.00      1.00      1.00       457\n",
            "weighted avg       1.00      1.00      1.00       457\n",
            "\n",
            "\n",
            "Confusion Matrix (Testing):\n",
            "[[175   0   0]\n",
            " [  0 209   0]\n",
            " [  0   0  73]]\n"
          ]
        }
      ]
    },
    {
      "cell_type": "markdown",
      "source": [
        "# 4. Perbandingan dengan model sebelum tuning"
      ],
      "metadata": {
        "id": "JPtVDItlc970"
      }
    },
    {
      "cell_type": "code",
      "source": [
        "# Model Random Forest sebelum tuning\n",
        "rf = RandomForestClassifier(n_estimators=100, random_state=42)\n",
        "rf.fit(X_train, y_train)\n",
        "y_predict_rf = rf.predict(X_test)\n",
        "\n",
        "# Hitung metrik evaluasi sebelum tuning\n",
        "accuracy_before = accuracy_score(y_test, y_predict_rf)\n",
        "f1_before = f1_score(y_test, y_predict_rf, average='weighted')\n",
        "\n",
        "# Hitung metrik evaluasi setelah tuning\n",
        "accuracy_after = test_accuracy\n",
        "f1_after = test_f1\n",
        "\n",
        "# Buat tabel perbandingan\n",
        "comparison = pd.DataFrame({\n",
        "    'Metric': ['Accuracy', 'F1-Score'],\n",
        "    'Before Tuning': [accuracy_before, f1_before],\n",
        "    'After Tuning': [accuracy_after, f1_after],\n",
        "    'Improvement': [accuracy_after - accuracy_before, f1_after - f1_before]\n",
        "})\n",
        "\n",
        "print(\"\\nPerformance Comparison:\")\n",
        "print(comparison)"
      ],
      "metadata": {
        "colab": {
          "base_uri": "https://localhost:8080/"
        },
        "id": "lL7TK3G0dCYT",
        "outputId": "d7587751-031a-48d1-a615-8553e79fdbfc"
      },
      "execution_count": 24,
      "outputs": [
        {
          "output_type": "stream",
          "name": "stdout",
          "text": [
            "\n",
            "Performance Comparison:\n",
            "     Metric  Before Tuning  After Tuning  Improvement\n",
            "0  Accuracy            1.0           1.0          0.0\n",
            "1  F1-Score            1.0           1.0          0.0\n"
          ]
        }
      ]
    },
    {
      "cell_type": "code",
      "source": [
        "import matplotlib.pyplot as plt\n",
        "\n",
        "# Visualisasi perbandingan performa\n",
        "metrics = ['Accuracy', 'F1-Score']\n",
        "before = [accuracy_before, f1_before]\n",
        "after = [accuracy_after, f1_after]\n",
        "\n",
        "x = np.arange(len(metrics))\n",
        "width = 0.35\n",
        "\n",
        "fig, ax = plt.subplots(figsize=(10, 6))\n",
        "rects1 = ax.bar(x - width/2, before, width, label='Before Tuning')\n",
        "rects2 = ax.bar(x + width/2, after, width, label='After Tuning')\n",
        "\n",
        "ax.set_ylabel('Scores')\n",
        "ax.set_title('Model Performance Before and After Tuning')\n",
        "ax.set_xticks(x)\n",
        "ax.set_xticklabels(metrics)\n",
        "ax.legend()\n",
        "\n",
        "fig.tight_layout()\n",
        "plt.show()"
      ],
      "metadata": {
        "colab": {
          "base_uri": "https://localhost:8080/",
          "height": 607
        },
        "id": "4cblPYqUeLvl",
        "outputId": "aba2a220-e6a8-4311-e4a9-4ca10f71a445"
      },
      "execution_count": 25,
      "outputs": [
        {
          "output_type": "display_data",
          "data": {
            "text/plain": [
              "<Figure size 1000x600 with 1 Axes>"
            ],
            "image/png": "[encoded data removed]"
          },
          "metadata": {}
        }
      ]
    },
    {
      "cell_type": "markdown",
      "source": [
        "## **e. Analisis Hasil Evaluasi Model Klasifikasi**"
      ],
      "metadata": {
        "id": "ZRsOdm4uEgAW"
      }
    },
    {
      "cell_type": "markdown",
      "source": [
        "Berikut adalah **rekomendasi** tahapannya.\n",
        "1. Bandingkan hasil evaluasi sebelum dan setelah tuning (jika dilakukan).\n",
        "2. Identifikasi kelemahan model, seperti:\n",
        "  - Precision atau Recall rendah untuk kelas tertentu.\n",
        "  - Apakah model mengalami overfitting atau underfitting?\n",
        "3. Berikan rekomendasi tindakan lanjutan, seperti mengumpulkan data tambahan atau mencoba algoritma lain jika hasil belum memuaskan."
      ],
      "metadata": {
        "id": "Hm3BhSi6N4_l"
      }
    },
    {
      "cell_type": "code",
      "source": [
        "import pandas as pd\n",
        "\n",
        "# Data untuk tabel evaluasi model\n",
        "data = {\n",
        "    \"Metric\": [\"Akurasi\", \"F1 Score\"],\n",
        "    \"Sebelum Tuning \": [\"100%\", \"100%\"],\n",
        "    \"Setelah Tuning\": [\"100%\", \"100%\"],\n",
        "    \"Perubahan\" : [\"0%\", \"0%\"]\n",
        "}\n",
        "\n",
        "df = pd.DataFrame(data)\n",
        "display(df)  # Menampilkan tabel di notebook"
      ],
      "metadata": {
        "colab": {
          "base_uri": "https://localhost:8080/",
          "height": 125
        },
        "id": "QneiLlpvom6c",
        "outputId": "934754ad-4077-4a70-dee4-967a72790217"
      },
      "execution_count": 31,
      "outputs": [
        {
          "output_type": "display_data",
          "data": {
            "text/plain": [
              "     Metric Sebelum Tuning  Setelah Tuning Perubahan\n",
              "0   Akurasi            100%           100%        0%\n",
              "1  F1 Score            100%           100%        0%"
            ],
            "text/html": [
              "\n",
              "  <div id=\"df-d0bbadc3-d75b-4ee8-b014-8e13ddaee8a6\" class=\"colab-df-container\">\n",
              "    <div>\n",
              "<style scoped>\n",
              "    .dataframe tbody tr th:only-of-type {\n",
              "        vertical-align: middle;\n",
              "    }\n",
              "\n",
              "    .dataframe tbody tr th {\n",
              "        vertical-align: top;\n",
              "    }\n",
              "\n",
              "    .dataframe thead th {\n",
              "        text-align: right;\n",
              "    }\n",
              "</style>\n",
              "<table border=\"1\" class=\"dataframe\">\n",
              "  <thead>\n",
              "    <tr style=\"text-align: right;\">\n",
              "      <th></th>\n",
              "      <th>Metric</th>\n",
              "      <th>Sebelum Tuning</th>\n",
              "      <th>Setelah Tuning</th>\n",
              "      <th>Perubahan</th>\n",
              "    </tr>\n",
              "  </thead>\n",
              "  <tbody>\n",
              "    <tr>\n",
              "      <th>0</th>\n",
              "      <td>Akurasi</td>\n",
              "      <td>100%</td>\n",
              "      <td>100%</td>\n",
              "      <td>0%</td>\n",
              "    </tr>\n",
              "    <tr>\n",
              "      <th>1</th>\n",
              "      <td>F1 Score</td>\n",
              "      <td>100%</td>\n",
              "      <td>100%</td>\n",
              "      <td>0%</td>\n",
              "    </tr>\n",
              "  </tbody>\n",
              "</table>\n",
              "</div>\n",
              "    <div class=\"colab-df-buttons\">\n",
              "\n",
              "  <div class=\"colab-df-container\">\n",
              "    <button class=\"colab-df-convert\" onclick=\"convertToInteractive('df-d0bbadc3-d75b-4ee8-b014-8e13ddaee8a6')\"\n",
              "            title=\"Convert this dataframe to an interactive table.\"\n",
              "            style=\"display:none;\">\n",
              "\n",
              "  <svg xmlns=\"http://www.w3.org/2000/svg\" height=\"24px\" viewBox=\"0 -960 960 960\">\n",
              "    <path d=\"M120-120v-720h720v720H120Zm60-500h600v-160H180v160Zm220 220h160v-160H400v160Zm0 220h160v-160H400v160ZM180-400h160v-160H180v160Zm440 0h160v-160H620v160ZM180-180h160v-160H180v160Zm440 0h160v-160H620v160Z\"/>\n",
              "  </svg>\n",
              "    </button>\n",
              "\n",
              "  <style>\n",
              "    .colab-df-container {\n",
              "      display:flex;\n",
              "      gap: 12px;\n",
              "    }\n",
              "\n",
              "    .colab-df-convert {\n",
              "      background-color: #E8F0FE;\n",
              "      border: none;\n",
              "      border-radius: 50%;\n",
              "      cursor: pointer;\n",
              "      display: none;\n",
              "      fill: #1967D2;\n",
              "      height: 32px;\n",
              "      padding: 0 0 0 0;\n",
              "      width: 32px;\n",
              "    }\n",
              "\n",
              "    .colab-df-convert:hover {\n",
              "      background-color: #E2EBFA;\n",
              "      box-shadow: 0px 1px 2px rgba(60, 64, 67, 0.3), 0px 1px 3px 1px rgba(60, 64, 67, 0.15);\n",
              "      fill: #174EA6;\n",
              "    }\n",
              "\n",
              "    .colab-df-buttons div {\n",
              "      margin-bottom: 4px;\n",
              "    }\n",
              "\n",
              "    [theme=dark] .colab-df-convert {\n",
              "      background-color: #3B4455;\n",
              "      fill: #D2E3FC;\n",
              "    }\n",
              "\n",
              "    [theme=dark] .colab-df-convert:hover {\n",
              "      background-color: #434B5C;\n",
              "      box-shadow: 0px 1px 3px 1px rgba(0, 0, 0, 0.15);\n",
              "      filter: drop-shadow(0px 1px 2px rgba(0, 0, 0, 0.3));\n",
              "      fill: #FFFFFF;\n",
              "    }\n",
              "  </style>\n",
              "\n",
              "    <script>\n",
              "      const buttonEl =\n",
              "        document.querySelector('#df-d0bbadc3-d75b-4ee8-b014-8e13ddaee8a6 button.colab-df-convert');\n",
              "      buttonEl.style.display =\n",
              "        google.colab.kernel.accessAllowed ? 'block' : 'none';\n",
              "\n",
              "      async function convertToInteractive(key) {\n",
              "        const element = document.querySelector('#df-d0bbadc3-d75b-4ee8-b014-8e13ddaee8a6');\n",
              "        const dataTable =\n",
              "          await google.colab.kernel.invokeFunction('convertToInteractive',\n",
              "                                                    [key], {});\n",
              "        if (!dataTable) return;\n",
              "\n",
              "        const docLinkHtml = 'Like what you see? Visit the ' +\n",
              "          '<a target=\"_blank\" href=https://colab.research.google.com/notebooks/data_table.ipynb>data table notebook</a>'\n",
              "          + ' to learn more about interactive tables.';\n",
              "        element.innerHTML = '';\n",
              "        dataTable['output_type'] = 'display_data';\n",
              "        await google.colab.output.renderOutput(dataTable, element);\n",
              "        const docLink = document.createElement('div');\n",
              "        docLink.innerHTML = docLinkHtml;\n",
              "        element.appendChild(docLink);\n",
              "      }\n",
              "    </script>\n",
              "  </div>\n",
              "\n",
              "\n",
              "    <div id=\"df-df2ddff7-aa7e-4127-b194-98fd4eee80ed\">\n",
              "      <button class=\"colab-df-quickchart\" onclick=\"quickchart('df-df2ddff7-aa7e-4127-b194-98fd4eee80ed')\"\n",
              "                title=\"Suggest charts\"\n",
              "                style=\"display:none;\">\n",
              "\n",
              "<svg xmlns=\"http://www.w3.org/2000/svg\" height=\"24px\"viewBox=\"0 0 24 24\"\n",
              "     width=\"24px\">\n",
              "    <g>\n",
              "        <path d=\"M19 3H5c-1.1 0-2 .9-2 2v14c0 1.1.9 2 2 2h14c1.1 0 2-.9 2-2V5c0-1.1-.9-2-2-2zM9 17H7v-7h2v7zm4 0h-2V7h2v10zm4 0h-2v-4h2v4z\"/>\n",
              "    </g>\n",
              "</svg>\n",
              "      </button>\n",
              "\n",
              "<style>\n",
              "  .colab-df-quickchart {\n",
              "      --bg-color: #E8F0FE;\n",
              "      --fill-color: #1967D2;\n",
              "      --hover-bg-color: #E2EBFA;\n",
              "      --hover-fill-color: #174EA6;\n",
              "      --disabled-fill-color: #AAA;\n",
              "      --disabled-bg-color: #DDD;\n",
              "  }\n",
              "\n",
              "  [theme=dark] .colab-df-quickchart {\n",
              "      --bg-color: #3B4455;\n",
              "      --fill-color: #D2E3FC;\n",
              "      --hover-bg-color: #434B5C;\n",
              "      --hover-fill-color: #FFFFFF;\n",
              "      --disabled-bg-color: #3B4455;\n",
              "      --disabled-fill-color: #666;\n",
              "  }\n",
              "\n",
              "  .colab-df-quickchart {\n",
              "    background-color: var(--bg-color);\n",
              "    border: none;\n",
              "    border-radius: 50%;\n",
              "    cursor: pointer;\n",
              "    display: none;\n",
              "    fill: var(--fill-color);\n",
              "    height: 32px;\n",
              "    padding: 0;\n",
              "    width: 32px;\n",
              "  }\n",
              "\n",
              "  .colab-df-quickchart:hover {\n",
              "    background-color: var(--hover-bg-color);\n",
              "    box-shadow: 0 1px 2px rgba(60, 64, 67, 0.3), 0 1px 3px 1px rgba(60, 64, 67, 0.15);\n",
              "    fill: var(--button-hover-fill-color);\n",
              "  }\n",
              "\n",
              "  .colab-df-quickchart-complete:disabled,\n",
              "  .colab-df-quickchart-complete:disabled:hover {\n",
              "    background-color: var(--disabled-bg-color);\n",
              "    fill: var(--disabled-fill-color);\n",
              "    box-shadow: none;\n",
              "  }\n",
              "\n",
              "  .colab-df-spinner {\n",
              "    border: 2px solid var(--fill-color);\n",
              "    border-color: transparent;\n",
              "    border-bottom-color: var(--fill-color);\n",
              "    animation:\n",
              "      spin 1s steps(1) infinite;\n",
              "  }\n",
              "\n",
              "  @keyframes spin {\n",
              "    0% {\n",
              "      border-color: transparent;\n",
              "      border-bottom-color: var(--fill-color);\n",
              "      border-left-color: var(--fill-color);\n",
              "    }\n",
              "    20% {\n",
              "      border-color: transparent;\n",
              "      border-left-color: var(--fill-color);\n",
              "      border-top-color: var(--fill-color);\n",
              "    }\n",
              "    30% {\n",
              "      border-color: transparent;\n",
              "      border-left-color: var(--fill-color);\n",
              "      border-top-color: var(--fill-color);\n",
              "      border-right-color: var(--fill-color);\n",
              "    }\n",
              "    40% {\n",
              "      border-color: transparent;\n",
              "      border-right-color: var(--fill-color);\n",
              "      border-top-color: var(--fill-color);\n",
              "    }\n",
              "    60% {\n",
              "      border-color: transparent;\n",
              "      border-right-color: var(--fill-color);\n",
              "    }\n",
              "    80% {\n",
              "      border-color: transparent;\n",
              "      border-right-color: var(--fill-color);\n",
              "      border-bottom-color: var(--fill-color);\n",
              "    }\n",
              "    90% {\n",
              "      border-color: transparent;\n",
              "      border-bottom-color: var(--fill-color);\n",
              "    }\n",
              "  }\n",
              "</style>\n",
              "\n",
              "      <script>\n",
              "        async function quickchart(key) {\n",
              "          const quickchartButtonEl =\n",
              "            document.querySelector('#' + key + ' button');\n",
              "          quickchartButtonEl.disabled = true;  // To prevent multiple clicks.\n",
              "          quickchartButtonEl.classList.add('colab-df-spinner');\n",
              "          try {\n",
              "            const charts = await google.colab.kernel.invokeFunction(\n",
              "                'suggestCharts', [key], {});\n",
              "          } catch (error) {\n",
              "            console.error('Error during call to suggestCharts:', error);\n",
              "          }\n",
              "          quickchartButtonEl.classList.remove('colab-df-spinner');\n",
              "          quickchartButtonEl.classList.add('colab-df-quickchart-complete');\n",
              "        }\n",
              "        (() => {\n",
              "          let quickchartButtonEl =\n",
              "            document.querySelector('#df-df2ddff7-aa7e-4127-b194-98fd4eee80ed button');\n",
              "          quickchartButtonEl.style.display =\n",
              "            google.colab.kernel.accessAllowed ? 'block' : 'none';\n",
              "        })();\n",
              "      </script>\n",
              "    </div>\n",
              "\n",
              "  <div id=\"id_7f847c1d-cd0e-4201-b9fc-d288978f8a6e\">\n",
              "    <style>\n",
              "      .colab-df-generate {\n",
              "        background-color: #E8F0FE;\n",
              "        border: none;\n",
              "        border-radius: 50%;\n",
              "        cursor: pointer;\n",
              "        display: none;\n",
              "        fill: #1967D2;\n",
              "        height: 32px;\n",
              "        padding: 0 0 0 0;\n",
              "        width: 32px;\n",
              "      }\n",
              "\n",
              "      .colab-df-generate:hover {\n",
              "        background-color: #E2EBFA;\n",
              "        box-shadow: 0px 1px 2px rgba(60, 64, 67, 0.3), 0px 1px 3px 1px rgba(60, 64, 67, 0.15);\n",
              "        fill: #174EA6;\n",
              "      }\n",
              "\n",
              "      [theme=dark] .colab-df-generate {\n",
              "        background-color: #3B4455;\n",
              "        fill: #D2E3FC;\n",
              "      }\n",
              "\n",
              "      [theme=dark] .colab-df-generate:hover {\n",
              "        background-color: #434B5C;\n",
              "        box-shadow: 0px 1px 3px 1px rgba(0, 0, 0, 0.15);\n",
              "        filter: drop-shadow(0px 1px 2px rgba(0, 0, 0, 0.3));\n",
              "        fill: #FFFFFF;\n",
              "      }\n",
              "    </style>\n",
              "    <button class=\"colab-df-generate\" onclick=\"generateWithVariable('df')\"\n",
              "            title=\"Generate code using this dataframe.\"\n",
              "            style=\"display:none;\">\n",
              "\n",
              "  <svg xmlns=\"http://www.w3.org/2000/svg\" height=\"24px\"viewBox=\"0 0 24 24\"\n",
              "       width=\"24px\">\n",
              "    <path d=\"M7,19H8.4L18.45,9,17,7.55,7,17.6ZM5,21V16.75L18.45,3.32a2,2,0,0,1,2.83,0l1.4,1.43a1.91,1.91,0,0,1,.58,1.4,1.91,1.91,0,0,1-.58,1.4L9.25,21ZM18.45,9,17,7.55Zm-12,3A5.31,5.31,0,0,0,4.9,8.1,5.31,5.31,0,0,0,1,6.5,5.31,5.31,0,0,0,4.9,4.9,5.31,5.31,0,0,0,6.5,1,5.31,5.31,0,0,0,8.1,4.9,5.31,5.31,0,0,0,12,6.5,5.46,5.46,0,0,0,6.5,12Z\"/>\n",
              "  </svg>\n",
              "    </button>\n",
              "    <script>\n",
              "      (() => {\n",
              "      const buttonEl =\n",
              "        document.querySelector('#id_7f847c1d-cd0e-4201-b9fc-d288978f8a6e button.colab-df-generate');\n",
              "      buttonEl.style.display =\n",
              "        google.colab.kernel.accessAllowed ? 'block' : 'none';\n",
              "\n",
              "      buttonEl.onclick = () => {\n",
              "        google.colab.notebook.generateWithVariable('df');\n",
              "      }\n",
              "      })();\n",
              "    </script>\n",
              "  </div>\n",
              "\n",
              "    </div>\n",
              "  </div>\n"
            ],
            "application/vnd.google.colaboratory.intrinsic+json": {
              "type": "dataframe",
              "variable_name": "df",
              "summary": "{\n  \"name\": \"df\",\n  \"rows\": 2,\n  \"fields\": [\n    {\n      \"column\": \"Metric\",\n      \"properties\": {\n        \"dtype\": \"string\",\n        \"num_unique_values\": 2,\n        \"samples\": [\n          \"F1 Score\",\n          \"Akurasi\"\n        ],\n        \"semantic_type\": \"\",\n        \"description\": \"\"\n      }\n    },\n    {\n      \"column\": \"Sebelum Tuning \",\n      \"properties\": {\n        \"dtype\": \"string\",\n        \"num_unique_values\": 1,\n        \"samples\": [\n          \"100%\"\n        ],\n        \"semantic_type\": \"\",\n        \"description\": \"\"\n      }\n    },\n    {\n      \"column\": \"Setelah Tuning\",\n      \"properties\": {\n        \"dtype\": \"string\",\n        \"num_unique_values\": 1,\n        \"samples\": [\n          \"100%\"\n        ],\n        \"semantic_type\": \"\",\n        \"description\": \"\"\n      }\n    },\n    {\n      \"column\": \"Perubahan\",\n      \"properties\": {\n        \"dtype\": \"string\",\n        \"num_unique_values\": 1,\n        \"samples\": [\n          \"0%\"\n        ],\n        \"semantic_type\": \"\",\n        \"description\": \"\"\n      }\n    }\n  ]\n}"
            }
          },
          "metadata": {}
        }
      ]
    },
    {
      "cell_type": "code",
      "source": [
        "print(classification_report(y_test, y_test_predict, digits=3))"
      ],
      "metadata": {
        "colab": {
          "base_uri": "https://localhost:8080/"
        },
        "id": "BrVFpLq7p5RX",
        "outputId": "efa6c2c4-3273-437e-a3c3-41451cdecbd9"
      },
      "execution_count": 29,
      "outputs": [
        {
          "output_type": "stream",
          "name": "stdout",
          "text": [
            "              precision    recall  f1-score   support\n",
            "\n",
            "           0      1.000     1.000     1.000       175\n",
            "           1      1.000     1.000     1.000       209\n",
            "           2      1.000     1.000     1.000        73\n",
            "\n",
            "    accuracy                          1.000       457\n",
            "   macro avg      1.000     1.000     1.000       457\n",
            "weighted avg      1.000     1.000     1.000       457\n",
            "\n"
          ]
        }
      ]
    },
    {
      "cell_type": "markdown",
      "source": [
        "\n",
        "1.   Bandingkan hasil evaluasi sebelum dan setelah tuning\n",
        "*   Hasil menunjukkan performa model sudah sangat tinggi bahkan sebelum tuning.\n",
        "*   Tidak ada peningkatan secara numerik, namun tuning tetap penting untuk memastikan bahwa model tidak overfitting atau terlalu kompleks.\n",
        "\n",
        "2.   Evaluasi Overfitting atau Underfitting\n",
        "*   Akurasi dan F1 Score pada training dan testing set = 100%.\n",
        "*   Confusion matrix menunjukkan tidak ada kesalahan pada data uji.\n",
        "*   Kemungkinan besar model mengalami overfitting, karena performanya telalu sempurna.\n",
        "\n",
        "3.    Identifikasi Kelemahan Potensial\n",
        "*   Overfitting : Meskipun evaluasi menunjukkan skor sempurna, ini dapat menunjukkan bahwa model terlalu menghafal data.\n",
        "*   Tidak terlihat kelemahan per kelas, namun evaluasi lebih realistis dapat dilakukan dengan cara menguji data baru, cross validation lebih dalam dan cek apakah distribusi data seimbang.\n",
        "\n",
        "4.      Rekomendasi Tindak Lanjutan\n",
        "*   Validasi Eksternal : Gunakan data baru atau cross validation pada fold yang lebih besar untuk konfirmasi generalisasi model.\n",
        "*   Regularisasi : tambahkan batasan seperti\n",
        "```\n",
        "max_depth, min_samples_leaf\n",
        "```\n",
        " untuk melihat efeknya terhadap performa jika performa \"realistis\" yang diharapkan.\n",
        "*   Jika jumlah data per kelas tidak seimbang, pertimbangkan SMOTE atau clas_weight='balanced'\n",
        "\n",
        "Kesimpulan :       \n",
        "\n",
        "1.   Performa Model Sangat Tinggi, baik sebelum maupun setelah tuning, model Random Forest menunjukkan skor akurasi dan F1 Score sebesar 100%, baik pada data latih maupun data uji. Hal ini mengindikasikan bahwa model mampu mengklasifikasikan data dengan sangat baik tanpa kesalahan.\n",
        "2.   Tuning Tidak Memberikan Peningkatan Signifikan, setelah melalukan pencarian hyperparameter terbaik dengan GridSearchCV, performa model tidak meningkat secara numerik karena sebelumnya pun model sudah mencapai performa maksimal. Namun, proses tuning tetap menjadi hal penting untuk memastikan bahwa model menggunakan konfigurasi yang optimal.\n",
        "3.    Skor sempurna dari kedua dataset (training dan testing) menimbulkan kemungkinan bahwa model mengalami overfitting yaitu model terlalu cocok dengan data pelatihan dan mungkin tidak bekerja dengan baik pada data baru yang berbeda.\n",
        "\n",
        "\n",
        "\n",
        "\n",
        "\n",
        "\n",
        "\n",
        "\n",
        "\n",
        "\n",
        "\n"
      ],
      "metadata": {
        "id": "B6Ccz07ZdRD0"
      }
    }
  ]
}